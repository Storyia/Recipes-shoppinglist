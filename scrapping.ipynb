{
 "cells": [
  {
   "cell_type": "code",
   "execution_count": 1,
   "id": "42682e7e",
   "metadata": {},
   "outputs": [
    {
     "name": "stdout",
     "output_type": "stream",
     "text": [
      "Limit reached\n",
      "Данные сохранены в файл 'recipes_50.csv'\n"
     ]
    }
   ],
   "source": [
    "from selenium import webdriver  # Импортируем библиотеку Selenium для управления веб-браузером\n",
    "from selenium.webdriver.common.by import By  # Импортируем класс для определения локаторов элементов\n",
    "from selenium.webdriver.chrome.service import Service  # Импортируем класс для настройки сервиса драйвера Chrome\n",
    "from selenium.webdriver.support.ui import WebDriverWait  # Импортируем класс для ожидания элементов на странице\n",
    "from selenium.webdriver.support import expected_conditions as EC  # Импортируем класс для определения условий ожидания\n",
    "from selenium.common.exceptions import TimeoutException, NoSuchElementException  # Импортируем классы исключений\n",
    "import pandas as pd  # Импортируем библиотеку для работы с табличными данными\n",
    "\n",
    "# Настройка драйвера\n",
    "service = Service(executable_path='C:/WebDriver/bin/chromedriver.exe')  # Указываем путь к драйверу Chrome\n",
    "driver = webdriver.Chrome(service=service)  # Создаем экземпляр драйвера Chrome\n",
    "\n",
    "# Базовый URL сайта\n",
    "base_url = 'https://www.russianfood.com'\n",
    "url = base_url + \"/recipes/bytype/?fid=98\"\n",
    "\n",
    "try:\n",
    "    recipes = []  # Список для хранения данных о рецептах\n",
    "    while True:\n",
    "        driver.get(url)  # Открываем страницу по указанному URL\n",
    "        WebDriverWait(driver, 10).until(EC.presence_of_element_located((By.CSS_SELECTOR, \".recipe_list_new2\")))  # Ожидаем загрузки элемента с классом .recipe_list_new2\n",
    "\n",
    "        # Собираем данные о рецептах\n",
    "        recipe_elements = driver.find_elements(By.CSS_SELECTOR, \".in_seen\")  # Находим все элементы с классом .in_seen\n",
    "        for recipe in recipe_elements:\n",
    "            # Извлекаем название рецепта\n",
    "            name = recipe.find_element(By.CSS_SELECTOR, \"h3[itemprop='name']\").text.strip() if recipe.find_elements(By.CSS_SELECTOR, \"h3[itemprop='name']\") else \"Название отсутствует\"\n",
    "            # Извлекаем описание рецепта\n",
    "            description = recipe.find_element(By.CSS_SELECTOR, \"[itemprop='description']\").text.strip() if recipe.find_elements(By.CSS_SELECTOR, \"[itemprop='description']\") else \"Описание отсутствует\"\n",
    "            # Извлекаем ингредиенты рецепта\n",
    "            ingredients = recipe.find_element(By.CSS_SELECTOR, \".announce_sub span\").text.strip() if recipe.find_elements(By.CSS_SELECTOR, \".announce_sub span\") else \"Ингредиенты отсутствуют\"\n",
    "            \n",
    "            # Убираем слово \"Продукты:\" из ингредиентов\n",
    "            if ingredients.startswith(\"Продукты:\"):\n",
    "                ingredients = ingredients.replace(\"Продукты:\", \"\").strip()\n",
    "            \n",
    "            # Добавляем данные рецепта в список\n",
    "            recipes.append({'name': name, 'description': description, 'ingredients': ingredients})\n",
    "            \n",
    "            if len(recipes) >= 50:  # Ограничение количества рецептов\n",
    "                raise Exception(\"Limit reached\")  # Вызов исключения для выхода из цикла\n",
    "\n",
    "        # Ищем кнопку следующей страницы и переходим по ссылке\n",
    "        next_page = driver.find_element(By.CSS_SELECTOR, \"a[href*='page=']\")  # Находим ссылку на следующую страницу\n",
    "        if next_page:\n",
    "            url = base_url + next_page.get_attribute('href')  # Обновляем URL для перехода на следующую страницу\n",
    "        else:\n",
    "            break  # Если кнопка следующей страницы отсутствует, завершаем цикл\n",
    "\n",
    "except (TimeoutException, NoSuchElementException):\n",
    "    print(\"Не удалось загрузить страницу или достигнут конец списка.\")  # Обрабатываем исключения на случай, если страница не загрузилась или достигнут конец списка\n",
    "except Exception as e:\n",
    "    print(str(e))  # Выводим сообщение об ошибке\n",
    "\n",
    "driver.quit()  # Закрываем браузер\n",
    "\n",
    "# Создаем DataFrame из собранных данных\n",
    "df = pd.DataFrame(recipes)\n",
    "if not df.empty:\n",
    "    df.to_csv('recipes_50.csv', index=False)  # Сохраняем данные в CSV файл\n",
    "    print(\"Данные сохранены в файл 'recipes_50.csv'\")  # Сообщаем об успешном сохранении данных\n",
    "else:\n",
    "    print(\"Нет данных для сохранения.\")  # Сообщаем, если нет данных для сохранения\n"
   ]
  },
  {
   "cell_type": "code",
   "execution_count": null,
   "id": "69c5f35b",
   "metadata": {},
   "outputs": [],
   "source": []
  }
 ],
 "metadata": {
  "kernelspec": {
   "display_name": "Python 3 (ipykernel)",
   "language": "python",
   "name": "python3"
  },
  "language_info": {
   "codemirror_mode": {
    "name": "ipython",
    "version": 3
   },
   "file_extension": ".py",
   "mimetype": "text/x-python",
   "name": "python",
   "nbconvert_exporter": "python",
   "pygments_lexer": "ipython3",
   "version": "3.8.18"
  }
 },
 "nbformat": 4,
 "nbformat_minor": 5
}
